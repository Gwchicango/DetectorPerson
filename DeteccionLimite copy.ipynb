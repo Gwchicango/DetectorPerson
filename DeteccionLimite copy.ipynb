{
  "cells": [
    {
      "cell_type": "code",
      "execution_count": 3,
      "metadata": {},
      "outputs": [],
      "source": [
        "import cv2\n",
        "import numpy as np"
      ]
    },
    {
      "cell_type": "code",
      "execution_count": 4,
      "metadata": {},
      "outputs": [],
      "source": [
        "marker_image = np.zeros((200,200,3),\n",
        "                         dtype=np.uint8)"
      ]
    },
    {
      "cell_type": "code",
      "execution_count": 5,
      "metadata": {},
      "outputs": [],
      "source": [
        "aruco_dictionary = cv2.aruco.getPredefinedDictionary(\n",
        "    cv2.aruco.DICT_6X6_250\n",
        ")"
      ]
    },
    {
      "cell_type": "code",
      "execution_count": 7,
      "metadata": {},
      "outputs": [],
      "source": [
        "marker87 = cv2.aruco.generateImageMarker(\n",
        "    aruco_dictionary, 87, 200, marker_image, 1\n",
        ")\n",
        "marker39 = cv2.aruco.generateImageMarker(\n",
        "    aruco_dictionary, 39, 200, marker_image, 1\n",
        ")\n",
        "marker14 = cv2.aruco.generateImageMarker(\n",
        "    aruco_dictionary, 14, 200, marker_image, 1\n",
        ")"
      ]
    },
    {
      "cell_type": "code",
      "execution_count": 13,
      "metadata": {},
      "outputs": [
        {
          "data": {
            "text/plain": [
              "True"
            ]
          },
          "execution_count": 13,
          "metadata": {},
          "output_type": "execute_result"
        }
      ],
      "source": [
        "cv2.imwrite(\"marker87.png\", marker87)\n",
        "cv2.imwrite(\"marker39.png\", marker39)\n",
        "cv2.imwrite(\"marker14.png\", marker14)"
      ]
    },
    {
      "cell_type": "code",
      "execution_count": 16,
      "metadata": {},
      "outputs": [],
      "source": [
        "img = cv2.imread('Test11.png')\n",
        "resized_image = cv2.resize(img, (600,600))\n",
        "gray_image = cv2.cvtColor(resized_image, cv2.COLOR_BGR2GRAY)"
      ]
    },
    {
      "cell_type": "code",
      "execution_count": 17,
      "metadata": {},
      "outputs": [],
      "source": [
        "parameters = cv2.aruco.DetectorParameters()\n",
        "detector = cv2.aruco.ArucoDetector(\n",
        "    aruco_dictionary, parameters\n",
        ")"
      ]
    },
    {
      "cell_type": "code",
      "execution_count": 18,
      "metadata": {},
      "outputs": [],
      "source": [
        "marker_corners, marker_ids, rejected_candidates = detector.detectMarkers(gray_image)"
      ]
    },
    {
      "cell_type": "code",
      "execution_count": 19,
      "metadata": {},
      "outputs": [
        {
          "data": {
            "text/plain": [
              "True"
            ]
          },
          "execution_count": 19,
          "metadata": {},
          "output_type": "execute_result"
        }
      ],
      "source": [
        "outpu_image = resized_image.copy()\n",
        "cv2.aruco.drawDetectedMarkers(\n",
        "    outpu_image, marker_corners, marker_ids\n",
        ")\n",
        "\n",
        "cv2.imwrite(\n",
        "    'output_image.jpg',\n",
        "    outpu_image\n",
        ")"
      ]
    },
    {
      "cell_type": "code",
      "execution_count": 20,
      "metadata": {},
      "outputs": [],
      "source": [
        "import cv2\n",
        "import numpy as np\n",
        "\n",
        "# Leer la imagen\n",
        "image = cv2.imread('imagen1.jpg')\n",
        "\n",
        "# Convertir a escala de grises\n",
        "gray = cv2.cvtColor(image, cv2.COLOR_BGR2GRAY)\n",
        "\n",
        "# Aplicar desenfoque\n",
        "blurred = cv2.GaussianBlur(gray, (5, 5), 0)\n",
        "\n",
        "# Detección de bordes\n",
        "edges = cv2.Canny(blurred, 50, 150)\n",
        "\n",
        "# Encontrar contornos\n",
        "contours, _ = cv2.findContours(edges, cv2.RETR_EXTERNAL, cv2.CHAIN_APPROX_SIMPLE)\n",
        "\n",
        "# Filtrar contornos para encontrar el contorno del tablero\n",
        "board_contour = None\n",
        "for contour in contours:\n",
        "    # Aproximar el contorno\n",
        "    epsilon = 0.02 * cv2.arcLength(contour, True)\n",
        "    approx = cv2.approxPolyDP(contour, epsilon, True)\n",
        "    \n",
        "    # Si el contorno tiene 4 vértices, podría ser el tablero\n",
        "    if len(approx) == 4:\n",
        "        board_contour = approx\n",
        "        break\n",
        "\n",
        "# Dibujar el contorno del tablero en la imagen original\n",
        "if board_contour is not None:\n",
        "    cv2.drawContours(image, [board_contour], -1, (0, 255, 0), 3)\n",
        "\n",
        "# Mostrar la imagen resultante\n",
        "cv2.imshow('Tablero de Ajedrez', image)\n",
        "cv2.waitKey(0)\n",
        "cv2.destroyAllWindows()"
      ]
    },
    {
      "cell_type": "code",
      "execution_count": null,
      "metadata": {},
      "outputs": [],
      "source": []
    }
  ],
  "metadata": {
    "colab": {
      "provenance": []
    },
    "kernelspec": {
      "display_name": "Python 3",
      "name": "python3"
    },
    "language_info": {
      "codemirror_mode": {
        "name": "ipython",
        "version": 3
      },
      "file_extension": ".py",
      "mimetype": "text/x-python",
      "name": "python",
      "nbconvert_exporter": "python",
      "pygments_lexer": "ipython3",
      "version": "3.11.7"
    }
  },
  "nbformat": 4,
  "nbformat_minor": 0
}
